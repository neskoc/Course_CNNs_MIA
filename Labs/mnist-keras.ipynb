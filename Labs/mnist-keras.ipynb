{
 "cells": [
  {
   "cell_type": "markdown",
   "metadata": {},
   "source": [
    "# Exercises 1 - MNIST Optical Character Recognition\n",
    "### Course: Convolutional Neural Networks with Applications in Medical Image Analysis\n",
    "Office hours: Mondays 13.15--15.00 (Tommy), Tuesdays 13.15--16.00 (Minh), Thursdays 08.15--12.00 (Attila)\n",
    "\n",
    "Below is an example notebook for a simple Keras pipeline. The dataset is MNIST (http://yann.lecun.com/exdb/mnist/), where each image is of a handwritten digit of 0-9."
   ]
  },
  {
   "cell_type": "code",
   "execution_count": 43,
   "metadata": {},
   "outputs": [],
   "source": [
    "# Import needed packages\n",
    "\n",
    "from __future__ import print_function\n",
    "from tensorflow import keras\n",
    "from tensorflow.keras.datasets import mnist\n",
    "from tensorflow.keras.models import Sequential\n",
    "from tensorflow.keras.layers import Dense, Dropout, Flatten\n",
    "from tensorflow.keras.layers import Conv2D, MaxPooling2D\n",
    "from tensorflow.keras import backend as K\n",
    "from tensorflow.python.client import device_lib\n",
    "import numpy as np\n",
    "from sklearn.model_selection import train_test_split\n",
    "import matplotlib.pyplot as plt"
   ]
  },
  {
   "cell_type": "code",
   "execution_count": 32,
   "metadata": {},
   "outputs": [
    {
     "name": "stdout",
     "output_type": "stream",
     "text": [
      "[name: \"/device:CPU:0\"\n",
      "device_type: \"CPU\"\n",
      "memory_limit: 268435456\n",
      "locality {\n",
      "}\n",
      "incarnation: 2428220889947837717\n",
      ", name: \"/device:XLA_CPU:0\"\n",
      "device_type: \"XLA_CPU\"\n",
      "memory_limit: 17179869184\n",
      "locality {\n",
      "}\n",
      "incarnation: 3737579565401141328\n",
      "physical_device_desc: \"device: XLA_CPU device\"\n",
      "]\n"
     ]
    }
   ],
   "source": [
    "# See if GPU is available to use\n",
    "\n",
    "print(device_lib.list_local_devices())"
   ]
  },
  {
   "cell_type": "code",
   "execution_count": 103,
   "metadata": {},
   "outputs": [],
   "source": [
    "# Load in MNIST data\n",
    "(x_train, y_train), (x_test, y_test) = mnist.load_data()\n",
    "\n",
    "# Input image dimensions\n",
    "img_rows, img_cols = np.shape(x_train)[1:] # This will keep original size. Change if you want to resize\n",
    "batch_size = 128\n",
    "num_classes = 10\n",
    "epochs = 15"
   ]
  },
  {
   "cell_type": "code",
   "execution_count": 104,
   "metadata": {},
   "outputs": [
    {
     "name": "stdout",
     "output_type": "stream",
     "text": [
      "x_train shape: (60000, 28, 28, 1)\n",
      "60000 train samples\n",
      "10000 test samples\n"
     ]
    }
   ],
   "source": [
    "# Formatting stuff\n",
    "x_train = x_train.reshape(x_train.shape[0], img_rows, img_cols, 1)\n",
    "x_test = x_test.reshape(x_test.shape[0], img_rows, img_cols, 1)\n",
    "input_shape = (img_rows, img_cols, 1)\n",
    "\n",
    "x_train = x_train.astype('float32')\n",
    "x_test = x_test.astype('float32')\n",
    "x_train /= 255\n",
    "x_test /= 255\n",
    "print('x_train shape:', x_train.shape)\n",
    "print(x_train.shape[0], 'train samples')\n",
    "print(x_test.shape[0], 'test samples')"
   ]
  },
  {
   "cell_type": "code",
   "execution_count": 105,
   "metadata": {},
   "outputs": [
    {
     "name": "stdout",
     "output_type": "stream",
     "text": [
      "54000 train samples\n",
      "6000 validation samples\n"
     ]
    }
   ],
   "source": [
    "# Split dataset into training and testing dataset\n",
    "x_train, x_validate, y_train, y_validate = train_test_split(x_train, y_train, test_size=0.1, random_state=101)\n",
    "print(x_train.shape[0], 'train samples')\n",
    "print(x_validate.shape[0], 'validation samples')"
   ]
  },
  {
   "cell_type": "code",
   "execution_count": 106,
   "metadata": {},
   "outputs": [],
   "source": [
    "# Convert class vectors to binary class matrices\n",
    "y_train = keras.utils.to_categorical(y_train, num_classes)\n",
    "y_validate = keras.utils.to_categorical(y_validate, num_classes)\n",
    "y_test = keras.utils.to_categorical(y_test, num_classes)"
   ]
  },
  {
   "cell_type": "code",
   "execution_count": 107,
   "metadata": {},
   "outputs": [],
   "source": [
    "model = Sequential()\n",
    "model.add(Conv2D(32, kernel_size=(3, 3),\n",
    "                 activation='relu',\n",
    "                 input_shape=input_shape))\n",
    "model.add(Conv2D(64, (3, 3), activation='relu'))\n",
    "model.add(MaxPooling2D(pool_size=(2, 2)))\n",
    "model.add(Dropout(0.25))\n",
    "model.add(Flatten())\n",
    "model.add(Dense(128, activation='relu'))\n",
    "model.add(Dropout(0.5))\n",
    "model.add(Dense(num_classes, activation='softmax'))"
   ]
  },
  {
   "cell_type": "code",
   "execution_count": 108,
   "metadata": {},
   "outputs": [
    {
     "name": "stdout",
     "output_type": "stream",
     "text": [
      "Model: \"sequential_4\"\n",
      "_________________________________________________________________\n",
      "Layer (type)                 Output Shape              Param #   \n",
      "=================================================================\n",
      "conv2d_8 (Conv2D)            (None, 26, 26, 32)        320       \n",
      "_________________________________________________________________\n",
      "conv2d_9 (Conv2D)            (None, 24, 24, 64)        18496     \n",
      "_________________________________________________________________\n",
      "max_pooling2d_4 (MaxPooling2 (None, 12, 12, 64)        0         \n",
      "_________________________________________________________________\n",
      "dropout_8 (Dropout)          (None, 12, 12, 64)        0         \n",
      "_________________________________________________________________\n",
      "flatten_4 (Flatten)          (None, 9216)              0         \n",
      "_________________________________________________________________\n",
      "dense_8 (Dense)              (None, 128)               1179776   \n",
      "_________________________________________________________________\n",
      "dropout_9 (Dropout)          (None, 128)               0         \n",
      "_________________________________________________________________\n",
      "dense_9 (Dense)              (None, 10)                1290      \n",
      "=================================================================\n",
      "Total params: 1,199,882\n",
      "Trainable params: 1,199,882\n",
      "Non-trainable params: 0\n",
      "_________________________________________________________________\n"
     ]
    }
   ],
   "source": [
    "model.compile(loss=keras.losses.categorical_crossentropy,\n",
    "              optimizer=keras.optimizers.Adam(),\n",
    "              metrics=['accuracy'])\n",
    "\n",
    "model.summary()"
   ]
  },
  {
   "cell_type": "code",
   "execution_count": 109,
   "metadata": {},
   "outputs": [
    {
     "name": "stdout",
     "output_type": "stream",
     "text": [
      "Train on 54000 samples, validate on 6000 samples\n",
      "Epoch 1/25\n",
      "54000/54000 - 31s - loss: 0.2565 - accuracy: 0.9217 - val_loss: 0.0650 - val_accuracy: 0.9793\n",
      "Epoch 2/25\n",
      "54000/54000 - 30s - loss: 0.0884 - accuracy: 0.9734 - val_loss: 0.0472 - val_accuracy: 0.9858\n",
      "Epoch 3/25\n",
      "54000/54000 - 30s - loss: 0.0663 - accuracy: 0.9800 - val_loss: 0.0433 - val_accuracy: 0.9863\n",
      "Epoch 4/25\n",
      "54000/54000 - 30s - loss: 0.0532 - accuracy: 0.9837 - val_loss: 0.0427 - val_accuracy: 0.9875\n",
      "Epoch 5/25\n",
      "54000/54000 - 30s - loss: 0.0481 - accuracy: 0.9849 - val_loss: 0.0343 - val_accuracy: 0.9883\n",
      "Epoch 6/25\n",
      "54000/54000 - 31s - loss: 0.0400 - accuracy: 0.9871 - val_loss: 0.0356 - val_accuracy: 0.9892\n",
      "Epoch 7/25\n",
      "54000/54000 - 30s - loss: 0.0345 - accuracy: 0.9891 - val_loss: 0.0357 - val_accuracy: 0.9897\n",
      "Epoch 8/25\n",
      "54000/54000 - 30s - loss: 0.0311 - accuracy: 0.9900 - val_loss: 0.0391 - val_accuracy: 0.9893\n",
      "Epoch 9/25\n",
      "54000/54000 - 30s - loss: 0.0267 - accuracy: 0.9910 - val_loss: 0.0351 - val_accuracy: 0.9913\n",
      "Epoch 10/25\n",
      "54000/54000 - 30s - loss: 0.0259 - accuracy: 0.9916 - val_loss: 0.0320 - val_accuracy: 0.9908\n",
      "Epoch 11/25\n",
      "54000/54000 - 30s - loss: 0.0234 - accuracy: 0.9922 - val_loss: 0.0317 - val_accuracy: 0.9905\n",
      "Epoch 12/25\n",
      "54000/54000 - 30s - loss: 0.0231 - accuracy: 0.9921 - val_loss: 0.0356 - val_accuracy: 0.9900\n",
      "Epoch 13/25\n",
      "54000/54000 - 31s - loss: 0.0208 - accuracy: 0.9930 - val_loss: 0.0378 - val_accuracy: 0.9898\n",
      "Epoch 14/25\n",
      "54000/54000 - 31s - loss: 0.0192 - accuracy: 0.9932 - val_loss: 0.0379 - val_accuracy: 0.9910\n",
      "Epoch 15/25\n",
      "54000/54000 - 30s - loss: 0.0191 - accuracy: 0.9937 - val_loss: 0.0420 - val_accuracy: 0.9887\n",
      "Epoch 16/25\n",
      "54000/54000 - 31s - loss: 0.0152 - accuracy: 0.9947 - val_loss: 0.0384 - val_accuracy: 0.9913\n",
      "Epoch 17/25\n",
      "54000/54000 - 31s - loss: 0.0161 - accuracy: 0.9947 - val_loss: 0.0407 - val_accuracy: 0.9902\n",
      "Epoch 18/25\n",
      "54000/54000 - 31s - loss: 0.0161 - accuracy: 0.9942 - val_loss: 0.0413 - val_accuracy: 0.9902\n",
      "Epoch 19/25\n",
      "54000/54000 - 30s - loss: 0.0148 - accuracy: 0.9949 - val_loss: 0.0410 - val_accuracy: 0.9907\n",
      "Epoch 20/25\n",
      "54000/54000 - 29s - loss: 0.0142 - accuracy: 0.9953 - val_loss: 0.0428 - val_accuracy: 0.9907\n",
      "Epoch 21/25\n",
      "54000/54000 - 30s - loss: 0.0134 - accuracy: 0.9958 - val_loss: 0.0370 - val_accuracy: 0.9912\n",
      "Epoch 22/25\n",
      "54000/54000 - 30s - loss: 0.0120 - accuracy: 0.9965 - val_loss: 0.0409 - val_accuracy: 0.9910\n",
      "Epoch 23/25\n",
      "54000/54000 - 30s - loss: 0.0130 - accuracy: 0.9957 - val_loss: 0.0460 - val_accuracy: 0.9907\n",
      "Epoch 24/25\n",
      "54000/54000 - 30s - loss: 0.0116 - accuracy: 0.9961 - val_loss: 0.0476 - val_accuracy: 0.9905\n",
      "Epoch 25/25\n",
      "54000/54000 - 30s - loss: 0.0101 - accuracy: 0.9963 - val_loss: 0.0520 - val_accuracy: 0.9905\n"
     ]
    }
   ],
   "source": [
    "history = model.fit(x_train, y_train,\n",
    "          batch_size=batch_size,\n",
    "          epochs=epochs,\n",
    "          verbose=2,\n",
    "          validation_data=(x_validate, y_validate))"
   ]
  },
  {
   "cell_type": "code",
   "execution_count": 110,
   "metadata": {},
   "outputs": [
    {
     "data": {
      "image/png": "[encoded data removed]",
      "text/plain": [
       "<Figure size 432x288 with 1 Axes>"
      ]
     },
     "metadata": {
      "needs_background": "light"
     },
     "output_type": "display_data"
    }
   ],
   "source": [
    "# Plotting the losses for the training and validation data\n",
    "plt.plot(history.history['loss'])\n",
    "plt.plot(history.history['val_loss'])\n",
    "plt.legend(['loss', 'val_loss'])\n",
    "plt.show()"
   ]
  },
  {
   "cell_type": "code",
   "execution_count": 111,
   "metadata": {},
   "outputs": [
    {
     "data": {
      "image/png": "[encoded data removed]",
      "text/plain": [
       "<Figure size 432x288 with 1 Axes>"
      ]
     },
     "metadata": {
      "needs_background": "light"
     },
     "output_type": "display_data"
    }
   ],
   "source": [
    "# Plotting the recognition accuracies for the training and validation data\n",
    "plt.plot(history.history['accuracy'])\n",
    "plt.plot(history.history['val_accuracy'])\n",
    "plt.legend(['acc', 'val_acc'])\n",
    "plt.show()"
   ]
  },
  {
   "cell_type": "code",
   "execution_count": 112,
   "metadata": {},
   "outputs": [
    {
     "name": "stdout",
     "output_type": "stream",
     "text": [
      "Test loss: 0.03167202679941137\n",
      "Test accuracy: 0.9928\n"
     ]
    }
   ],
   "source": [
    "score = model.evaluate(x_test, y_test, verbose=0)\n",
    "print('Test loss:', score[0])\n",
    "print('Test accuracy:', score[1])"
   ]
  },
  {
   "cell_type": "code",
   "execution_count": 113,
   "metadata": {},
   "outputs": [
    {
     "data": {
      "image/png": "[encoded data removed]",
      "text/plain": [
       "<Figure size 432x288 with 1 Axes>"
      ]
     },
     "metadata": {
      "needs_background": "light"
     },
     "output_type": "display_data"
    },
    {
     "name": "stdout",
     "output_type": "stream",
     "text": [
      "[3.3429248e-19 5.4651865e-12 1.8800995e-15 7.7857541e-15 1.5390637e-17\n",
      " 1.1996141e-21 1.2754257e-27 1.0000000e+00 7.9994305e-19 1.2713538e-14]\n",
      "\n",
      "\n",
      "The maximum is at: 7\n"
     ]
    }
   ],
   "source": [
    "# See what we actually did:\n",
    "plt.imshow(x_test[0, :, :, 0], cmap='gray')\n",
    "plt.show()\n",
    "\n",
    "guesses = model.predict(x_test)\n",
    "\n",
    "# Chance of image being of each character 0-9\n",
    "print(guesses[0])\n",
    "\n",
    "# Where is the maximum?\n",
    "print('\\n')\n",
    "print('The maximum is at: ' + str(np.argmax(guesses[0])))"
   ]
  },
  {
   "cell_type": "code",
   "execution_count": 114,
   "metadata": {},
   "outputs": [
    {
     "data": {
      "image/png": "[encoded data removed]",
      "text/plain": [
       "<Figure size 936x936 with 16 Axes>"
      ]
     },
     "metadata": {
      "needs_background": "light"
     },
     "output_type": "display_data"
    }
   ],
   "source": [
    "# Plotting some results\n",
    "\n",
    "n = 4\n",
    "plt.figure(figsize=(13, 13))\n",
    "guesses = model.predict(x_test[0:n*n, :, :, :])\n",
    "for i in range(n*n):\n",
    "    plt.subplot(n, n, i+1)\n",
    "    plt.imshow(x_test[i, :, :, 0], cmap='gray')\n",
    "    plt.axis('off')\n",
    "    plt.title(str(np.argmax(guesses[i])) + \" (\" + str(int(guesses[i, np.argmax(guesses[i])] * 100)) + \"%)\")"
   ]
  },
  {
   "cell_type": "code",
   "execution_count": null,
   "metadata": {},
   "outputs": [],
   "source": []
  }
 ],
 "metadata": {
  "kernelspec": {
   "display_name": "Python 3",
   "language": "python",
   "name": "python3"
  },
  "language_info": {
   "codemirror_mode": {
    "name": "ipython",
    "version": 3
   },
   "file_extension": ".py",
   "mimetype": "text/x-python",
   "name": "python",
   "nbconvert_exporter": "python",
   "pygments_lexer": "ipython3",
   "version": "3.7.3"
  }
 },
 "nbformat": 4,
 "nbformat_minor": 2
}
