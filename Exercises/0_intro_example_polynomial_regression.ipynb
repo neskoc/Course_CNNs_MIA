{
  "nbformat": 4,
  "nbformat_minor": 0,
  "metadata": {
    "colab": {
      "name": "0_intro_example_polynomial_regression.ipynb",
      "provenance": [],
      "collapsed_sections": []
    },
    "kernelspec": {
      "display_name": "Python 3",
      "language": "python",
      "name": "python3"
    },
    "language_info": {
      "codemirror_mode": {
        "name": "ipython",
        "version": 3
      },
      "file_extension": ".py",
      "mimetype": "text/x-python",
      "name": "python",
      "nbconvert_exporter": "python",
      "pygments_lexer": "ipython3",
      "version": "3.8.2"
    }
  },
  "cells": [
    {
      "cell_type": "markdown",
      "metadata": {
        "id": "YvX6bIvDP0G0"
      },
      "source": [
        "# Machine learning intro\n",
        "\n",
        "Polynomial regression using scikit-learn."
      ]
    },
    {
      "cell_type": "code",
      "metadata": {
        "id": "EnZERD7wP07O"
      },
      "source": [
        "# Import packages\n",
        "import numpy as np\n",
        "import matplotlib.pyplot as plt\n",
        "\n",
        "import sklearn.metrics\n",
        "import sklearn.linear_model\n",
        "from sklearn.preprocessing import PolynomialFeatures"
      ],
      "execution_count": 1,
      "outputs": []
    },
    {
      "cell_type": "markdown",
      "metadata": {
        "id": "MhXd-V_cVwSk"
      },
      "source": [
        "The methods used here (and in future assignments) rely on random number generation. To make your results reproducible, don't forget to set your seed."
      ]
    },
    {
      "cell_type": "code",
      "metadata": {
        "id": "bRm_3qAgWC-N"
      },
      "source": [
        "np.random.seed(42)"
      ],
      "execution_count": 2,
      "outputs": []
    },
    {
      "cell_type": "code",
      "metadata": {
        "id": "13gWETygczE2"
      },
      "source": [
        "# Generate synthetic dataset\n",
        "\n",
        "\n",
        "def f(x, noise_std=0.0):\n",
        "  \"\"\"Creates a degree three polynomial from the input.\"\"\"\n",
        "\n",
        "  y = beta_true[0] \\\n",
        "      + beta_true[1] * x \\\n",
        "      + beta_true[2] * x**2 \\\n",
        "      + beta_true[3] * x**3\n",
        "  y += noise_std * np.random.randn(n, 1)\n",
        "  return y"
      ],
      "execution_count": 3,
      "outputs": []
    },
    {
      "cell_type": "markdown",
      "metadata": {
        "id": "oxPz_ZjDn_EW"
      },
      "source": [
        "The polynomial regression is of form: $y = \\beta_0 + \\beta_1 x + \\beta_2 x^2 + \\beta_3 x^3$. \r\n",
        "\r\n",
        "Let's define our function with polynomial parameters:"
      ]
    },
    {
      "cell_type": "code",
      "metadata": {
        "id": "JtnFD9Nzpol9",
        "colab": {
          "base_uri": "https://localhost:8080/"
        },
        "outputId": "f496cb84-09ed-4654-b993-c7b14f7ff3b2"
      },
      "source": [
        "beta_true = [0.1, 0.3142, 0.0618, -0.2718]  # True regression coefficients\r\n",
        "print(beta_true)"
      ],
      "execution_count": 4,
      "outputs": [
        {
          "output_type": "stream",
          "text": [
            "[0.1, 0.3142, 0.0618, -0.2718]\n"
          ],
          "name": "stdout"
        }
      ]
    },
    {
      "cell_type": "markdown",
      "metadata": {
        "id": "ZcLRaGWG4uOI"
      },
      "source": [
        "Create training data"
      ]
    },
    {
      "cell_type": "code",
      "metadata": {
        "id": "_Mzick-Zn84o"
      },
      "source": [
        "n = 100  # 100 data samples\r\n",
        "X = np.random.rand(n, 1) * 20 - 10  # Generate independent variable\r\n",
        "y = f(X, noise_std=20.0)  # Generate the outputs"
      ],
      "execution_count": 5,
      "outputs": []
    },
    {
      "cell_type": "markdown",
      "metadata": {
        "id": "ujrZ5O804ynu"
      },
      "source": [
        "Create validation data identically"
      ]
    },
    {
      "cell_type": "code",
      "metadata": {
        "id": "yhOeh65n43Kr"
      },
      "source": [
        "X_val = np.random.rand(n, 1) * 20 - 10  # Validation data set\r\n",
        "y_val = f(X_val, noise_std=20.0)  # Validation data output"
      ],
      "execution_count": 6,
      "outputs": []
    },
    {
      "cell_type": "code",
      "metadata": {
        "id": "VgT-soXpdNZV",
        "colab": {
          "base_uri": "https://localhost:8080/",
          "height": 295
        },
        "outputId": "35d6da36-5038-4ea6-99c6-06f4a14f481d"
      },
      "source": [
        "plt.figure()\n",
        "plt.plot(X, y, '.')\n",
        "plt.title('Training data')\n",
        "plt.xlabel('X')\n",
        "plt.ylabel('Y')\n",
        "plt.show()"
      ],
      "execution_count": 7,
      "outputs": [
        {
          "output_type": "display_data",
          "data": {
            "image/png": "[encoded data removed]",
            "text/plain": [
              "<Figure size 432x288 with 1 Axes>"
            ]
          },
          "metadata": {
            "tags": [],
            "needs_background": "light"
          }
        }
      ]
    },
    {
      "cell_type": "markdown",
      "metadata": {
        "id": "5T-oA9w1-jsC"
      },
      "source": [
        "Let's transform $X$ to something more meaningful, that's easier to handle."
      ]
    },
    {
      "cell_type": "code",
      "metadata": {
        "id": "h7681oESdi5s",
        "colab": {
          "base_uri": "https://localhost:8080/"
        },
        "outputId": "693eabd7-373c-4fb7-e0c3-5b4cf0d61fbd"
      },
      "source": [
        "# Transform dataset using a polynomial of degree 3\n",
        "# It will fit an intercept (the bias), and first through third order terms\n",
        "poly = PolynomialFeatures(degree=3, include_bias=True)\n",
        "poly.fit(X)\n",
        "X_ = poly.transform(X)\n",
        "X_val_ = poly.transform(X_val)\n",
        "\n",
        "print(f\"X_.shape    : {X_.shape}\")\n",
        "print(f\"X_val_.shape: {X_val_.shape}\")"
      ],
      "execution_count": 8,
      "outputs": [
        {
          "output_type": "stream",
          "text": [
            "X_.shape    : (100, 4)\n",
            "X_val_.shape: (100, 4)\n"
          ],
          "name": "stdout"
        }
      ]
    },
    {
      "cell_type": "code",
      "metadata": {
        "colab": {
          "base_uri": "https://localhost:8080/"
        },
        "id": "FuoL-AQc6s0n",
        "outputId": "14141f04-ccee-482c-edea-8d2b172bfe18"
      },
      "source": [
        "print(\"First element: \" + str(X[0]) + \" First element squared: \" + str(X[0]**2) + \" First element cubed: \" + str(X[0]**3))\r\n",
        "print(\"The features for the first element: \" + str(X_[0, :]))"
      ],
      "execution_count": 9,
      "outputs": [
        {
          "output_type": "stream",
          "text": [
            "First element: [-2.50919762] First element squared: [6.29607271] First element cubed: [-15.79809068]\n",
            "The features for the first element: [  1.          -2.50919762   6.29607271 -15.79809068]\n"
          ],
          "name": "stdout"
        }
      ]
    },
    {
      "cell_type": "markdown",
      "metadata": {
        "id": "Q0rx1TzX9vjm"
      },
      "source": [
        "The returned features are [$1, x, x^2, x^3$]. Now we can fit a linear regression model between these features and $Y$."
      ]
    },
    {
      "cell_type": "code",
      "metadata": {
        "id": "iLIMvu6SfuKE"
      },
      "source": [
        "# Create model and fit it to the training data\n",
        "model = sklearn.linear_model.LinearRegression(fit_intercept=True)\n",
        "_ = model.fit(X_, y)  # Note that I'm using the X_ here, i.e. transformed data"
      ],
      "execution_count": 10,
      "outputs": []
    },
    {
      "cell_type": "code",
      "metadata": {
        "id": "73L6W0Czfyfs",
        "colab": {
          "base_uri": "https://localhost:8080/"
        },
        "outputId": "311630bb-f0b7-4d6a-91fd-9ed3eb0ec08e"
      },
      "source": [
        "# Use model to predict outputs\n",
        "yhat = model.predict(X_)\n",
        "yhat_val = model.predict(X_val_)\n",
        "mse = sklearn.metrics.mean_squared_error(y, yhat)\n",
        "mse_val = sklearn.metrics.mean_squared_error(y_val, yhat_val)\n",
        "print(f\"Training MSE error  : {mse:.3f}\")\n",
        "print(f\"Validation MSE error: {mse_val:.3f}\")"
      ],
      "execution_count": 11,
      "outputs": [
        {
          "output_type": "stream",
          "text": [
            "Training MSE error  : 308.986\n",
            "Validation MSE error: 338.061\n"
          ],
          "name": "stdout"
        }
      ]
    },
    {
      "cell_type": "code",
      "metadata": {
        "id": "9WNmm9exg3JD",
        "colab": {
          "base_uri": "https://localhost:8080/",
          "height": 321
        },
        "outputId": "c026a27b-0a04-4f4a-b42a-cd47ac4fb6c0"
      },
      "source": [
        "# Plot predictions\n",
        "plt.figure(figsize=(10, 5))\n",
        "plt.subplot(121)\n",
        "plt.plot(X, y, '.', color=\"blue\")\n",
        "plt.plot(X, yhat, '.', color=\"red\")\n",
        "plt.legend([\"Training data\", \"Model Prediction\"])\n",
        "plt.subplot(122)\n",
        "plt.plot(X_val, y_val, '.', color=\"blue\")\n",
        "plt.plot(X_val, yhat_val, '.', color=\"red\")\n",
        "plt.legend([\"Validation data\", \"Model Prediction\"])\n",
        "plt.show()"
      ],
      "execution_count": 12,
      "outputs": [
        {
          "output_type": "display_data",
          "data": {
            "image/png": "[encoded data removed]",
            "text/plain": [
              "<Figure size 720x360 with 2 Axes>"
            ]
          },
          "metadata": {
            "tags": [],
            "needs_background": "light"
          }
        }
      ]
    },
    {
      "cell_type": "code",
      "metadata": {
        "id": "21pzrF5RRIau",
        "colab": {
          "base_uri": "https://localhost:8080/"
        },
        "outputId": "ce83e7ea-faf5-4c21-9c26-d441724b1616"
      },
      "source": [
        "# Regression coefficients\n",
        "print(f\"True coefficients : {beta_true}\")\n",
        "print(f\"Model coefficients: {model.coef_[0].round(4).tolist()}\")"
      ],
      "execution_count": 13,
      "outputs": [
        {
          "output_type": "stream",
          "text": [
            "True coefficients : [0.1, 0.3142, 0.0618, -0.2718]\n",
            "Model coefficients: [0.0, 0.4684, 0.1753, -0.281]\n"
          ],
          "name": "stdout"
        }
      ]
    }
  ]
}