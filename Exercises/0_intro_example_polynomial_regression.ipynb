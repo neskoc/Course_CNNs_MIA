{
  "nbformat": 4,
  "nbformat_minor": 0,
  "metadata": {
    "colab": {
      "name": "0_intro_example_polynomial_regression.ipynb",
      "provenance": [],
      "collapsed_sections": []
    },
    "kernelspec": {
      "display_name": "Python 3",
      "language": "python",
      "name": "python3"
    },
    "language_info": {
      "codemirror_mode": {
        "name": "ipython",
        "version": 3
      },
      "file_extension": ".py",
      "mimetype": "text/x-python",
      "name": "python",
      "nbconvert_exporter": "python",
      "pygments_lexer": "ipython3",
      "version": "3.8.2"
    }
  },
  "cells": [
    {
      "cell_type": "markdown",
      "metadata": {
        "id": "YvX6bIvDP0G0"
      },
      "source": [
        "# Machine learning intro\n",
        "\n",
        "Polynomial regression using scikit-learn."
      ]
    },
    {
      "cell_type": "code",
      "metadata": {
        "id": "EnZERD7wP07O"
      },
      "source": [
        "# Import packages\n",
        "import numpy as np\n",
        "import matplotlib.pyplot as plt\n",
        "\n",
        "import sklearn.metrics\n",
        "import sklearn.linear_model\n",
        "from sklearn.preprocessing import PolynomialFeatures\n",
        "\n",
        "# Make the results reproducible\n",
        "np.random.seed(42)"
      ],
      "execution_count": null,
      "outputs": []
    },
    {
      "cell_type": "code",
      "metadata": {
        "id": "13gWETygczE2"
      },
      "source": [
        "# Generate synthetic dataset\n",
        "n = 100  # 100 data samples\n",
        "beta_true = [0.1, 0.3142, 0.0618, -0.2718]  # True regression coefficients\n",
        "\n",
        "\n",
        "def f(x, noise_std=0.0):\n",
        "  \"\"\"Creates a degree three polynomial from the input.\"\"\"\n",
        "\n",
        "  y = beta_true[0] \\\n",
        "      + beta_true[1] * x \\\n",
        "      + beta_true[2] * x**2 \\\n",
        "      + beta_true[3] * x**3\n",
        "  y += noise_std * np.random.randn(n, 1)\n",
        "  return y\n",
        "\n",
        "\n",
        "X = np.random.rand(n, 1) * 20 - 10  # Generate independent variable\n",
        "y = f(X, noise_std=20.0)  # Generate the outputs\n",
        "\n",
        "X_val = np.random.rand(n, 1) * 20 - 10  # Validation data set\n",
        "y_val = f(X_val, noise_std=20.0)  # Validation data output"
      ],
      "execution_count": null,
      "outputs": []
    },
    {
      "cell_type": "code",
      "metadata": {
        "id": "VgT-soXpdNZV"
      },
      "source": [
        "plt.figure()\n",
        "plt.plot(X, y, '.')\n",
        "plt.show()"
      ],
      "execution_count": null,
      "outputs": []
    },
    {
      "cell_type": "code",
      "metadata": {
        "id": "h7681oESdi5s"
      },
      "source": [
        "# Transform dataset using a polynomial of degree 3\n",
        "# It will fit an intercept (the bias), and first through third order terms\n",
        "poly = PolynomialFeatures(degree=3, include_bias=True)\n",
        "poly.fit(X)\n",
        "X_ = poly.transform(X)\n",
        "X_val_ = poly.transform(X_val)\n",
        "\n",
        "print(f\"X_.shape    : {X_.shape}\")\n",
        "print(f\"X_val_.shape: {X_val_.shape}\")"
      ],
      "execution_count": null,
      "outputs": []
    },
    {
      "cell_type": "code",
      "metadata": {
        "id": "iLIMvu6SfuKE"
      },
      "source": [
        "# Create model and fit it to the training data\n",
        "model = sklearn.linear_model.LinearRegression(fit_intercept=True)\n",
        "_ = model.fit(X_, y)  # Note that I'm using the X_ here, i.e. transformed data"
      ],
      "execution_count": null,
      "outputs": []
    },
    {
      "cell_type": "code",
      "metadata": {
        "id": "73L6W0Czfyfs"
      },
      "source": [
        "# Use model to predict outputs\n",
        "yhat = model.predict(X_)\n",
        "yhat_val = model.predict(X_val_)\n",
        "mse = sklearn.metrics.mean_squared_error(y, yhat)\n",
        "mse_val = sklearn.metrics.mean_squared_error(y_val, yhat_val)\n",
        "print(f\"Training error  : {mse:.3f}\")\n",
        "print(f\"Validation error: {mse_val:.3f}\")"
      ],
      "execution_count": null,
      "outputs": []
    },
    {
      "cell_type": "code",
      "metadata": {
        "id": "9WNmm9exg3JD"
      },
      "source": [
        "# Plot predictions\n",
        "plt.figure()\n",
        "plt.plot(X, y, '.', color=\"blue\")\n",
        "plt.plot(X, yhat, '.', color=\"red\")\n",
        "plt.legend([\"Training data\", \"Model Prediction\"])\n",
        "plt.show()"
      ],
      "execution_count": null,
      "outputs": []
    },
    {
      "cell_type": "code",
      "metadata": {
        "id": "21pzrF5RRIau"
      },
      "source": [
        "# Regression coefficients\n",
        "print(f\"True coefficients : {beta_true}\")\n",
        "print(f\"Model coefficients: {model.coef_[0].round(4).tolist()}\")"
      ],
      "execution_count": null,
      "outputs": []
    },
    {
      "cell_type": "code",
      "metadata": {
        "id": "rgohtwZ_RnSr"
      },
      "source": [
        ""
      ],
      "execution_count": null,
      "outputs": []
    }
  ]
}