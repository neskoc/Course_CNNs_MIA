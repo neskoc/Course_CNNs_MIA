{
 "cells": [
  {
   "cell_type": "markdown",
   "metadata": {
    "colab_type": "text",
    "id": "yGPd6uKysaAC"
   },
   "source": [
    "# Multi-class classification of handwritten digits using a deep CNN model\n",
    "\n",
    "Using the MNIST dataset."
   ]
  },
  {
   "cell_type": "code",
   "execution_count": 1,
   "metadata": {
    "colab": {
     "base_uri": "https://localhost:8080/",
     "height": 164
    },
    "colab_type": "code",
    "id": "zV4yMnunsaS3",
    "outputId": "4fd375e6-a663-46b7-8aa3-44b03d8947a9"
   },
   "outputs": [
    {
     "data": {
      "image/png": "[encoded data removed]",
      "text/plain": [
       "<Figure size 1008x234 with 20 Axes>"
      ]
     },
     "metadata": {},
     "output_type": "display_data"
    }
   ],
   "source": [
    "# Import packages\n",
    "import numpy as np\n",
    "import random\n",
    "\n",
    "# Reproducible results\n",
    "np.random.seed(42)\n",
    "random.seed(42)\n",
    "\n",
    "import sklearn.svm\n",
    "\n",
    "import matplotlib.pyplot as plt\n",
    "\n",
    "import tensorflow.keras\n",
    "import tensorflow.keras.datasets\n",
    "\n",
    "from tensorflow.keras.models import Sequential\n",
    "from tensorflow.keras.layers import Dense, Dropout, Flatten\n",
    "from tensorflow.keras.layers import Conv2D, MaxPooling2D\n",
    "from tensorflow.keras import backend as K\n",
    "\n",
    "K.set_image_data_format(\"channels_last\")\n",
    "\n",
    "(X, y), (X_val, y_val) = tensorflow.keras.datasets.mnist.load_data()\n",
    "\n",
    "X_test = X_val[-2000:, :]\n",
    "y_test = y_val[-2000:]\n",
    "X_val = X_val[:-2000, :]\n",
    "y_val = y_val[:-2000]\n",
    "\n",
    "# Add channel dimensions last\n",
    "X = X[..., np.newaxis]\n",
    "X_val = X_val[..., np.newaxis]\n",
    "X_test = X_test[..., np.newaxis]\n",
    "\n",
    "X = X.astype(np.float32)\n",
    "X_val = X_val.astype(np.float32)\n",
    "X_test = X_test.astype(np.float32)\n",
    "X /= 255.0\n",
    "X_val /= 255.0\n",
    "X_test /= 255.0\n",
    "\n",
    "# Plot example images\n",
    "fig = plt.figure(figsize=(14.0, 3.25))\n",
    "fig.subplots_adjust(top=0.85,\n",
    "                    bottom=0.01,\n",
    "                    left=0.01,\n",
    "                    right=0.99,\n",
    "                    wspace=0.0,\n",
    "                    hspace=0.0)\n",
    "ax_i = 1\n",
    "for i in range(2):\n",
    "    for j in range(10):\n",
    "        plt.subplot(2, 10, ax_i)\n",
    "        ax = plt.gca()\n",
    "        plt.setp(ax.get_xticklabels(), visible=False)\n",
    "        plt.setp(ax.get_yticklabels(), visible=False)\n",
    "        im = X[np.random.randint(X.shape[0]), :, :, 0]\n",
    "        ax.imshow(im, cmap=plt.get_cmap(\"Greys\"))\n",
    "        ax_i += 1\n",
    "plt.suptitle(\"Example images from the MNIST dataset\", fontsize=26)\n",
    "plt.show()"
   ]
  },
  {
   "cell_type": "code",
   "execution_count": 2,
   "metadata": {},
   "outputs": [
    {
     "name": "stdout",
     "output_type": "stream",
     "text": [
      "Training set size X  : (60000, 28, 28, 1)\n",
      "Training set size y  : (60000, 10)\n",
      "Validation set size X: (8000, 28, 28, 1)\n",
      "Validation set size y: (8000, 10)\n",
      "Test set size X      : (2000, 28, 28, 1)\n",
      "Test set size y      : (2000, 10)\n",
      "Input shape          : (28, 28, 1)\n",
      "Number of classes    : 10\n"
     ]
    }
   ],
   "source": [
    "num_classes = len(set(y))\n",
    "\n",
    "y_orig = y.copy()\n",
    "y_val_orig = y_val.copy()\n",
    "y = tensorflow.keras.utils.to_categorical(y, num_classes)\n",
    "y_val = tensorflow.keras.utils.to_categorical(y_val, num_classes)\n",
    "y_test = tensorflow.keras.utils.to_categorical(y_test, num_classes)\n",
    "\n",
    "input_shape = (*X.shape[1:3], 1)\n",
    "\n",
    "print(f\"Training set size X  : {X.shape}\")\n",
    "print(f\"Training set size y  : {y.shape}\")\n",
    "print(f\"Validation set size X: {X_val.shape}\")\n",
    "print(f\"Validation set size y: {y_val.shape}\")\n",
    "print(f\"Test set size X      : {X_test.shape}\")\n",
    "print(f\"Test set size y      : {y_test.shape}\")\n",
    "print(f\"Input shape          : {input_shape}\")\n",
    "print(f\"Number of classes    : {num_classes}\")"
   ]
  },
  {
   "cell_type": "code",
   "execution_count": 3,
   "metadata": {
    "colab": {
     "base_uri": "https://localhost:8080/",
     "height": 54
    },
    "colab_type": "code",
    "id": "1w06KHXXsyXO",
    "outputId": "0f84dca2-2ff4-46eb-af4f-01b2c4bab515"
   },
   "outputs": [
    {
     "name": "stdout",
     "output_type": "stream",
     "text": [
      "[LibSVM]"
     ]
    },
    {
     "name": "stderr",
     "output_type": "stream",
     "text": [
      "/home/tommy/miniconda3/lib/python3.8/site-packages/sklearn/svm/_base.py:246: ConvergenceWarning: Solver terminated early (max_iter=100).  Consider pre-processing your data with StandardScaler or MinMaxScaler.\n",
      "  warnings.warn('Solver terminated early (max_iter=%i).'\n"
     ]
    }
   ],
   "source": [
    "# Create baseline model\n",
    "\n",
    "# Reshape for the SVC model\n",
    "X_ = X.reshape(X.shape[0], -1)\n",
    "X_val_ = X_val.reshape(X_val.shape[0], -1)\n",
    "X_test_ = X_test.reshape(X_test.shape[0], -1)\n",
    "\n",
    "# Fit baseline model\n",
    "model_baseline = sklearn.svm.SVC(C=1.0,\n",
    "                                 kernel=\"rbf\",\n",
    "                                 gamma=\"auto\",\n",
    "                                 shrinking=True,\n",
    "                                 tol=0.001,\n",
    "                                 cache_size=200,\n",
    "                                 class_weight=None,\n",
    "                                 verbose=True,\n",
    "                                 max_iter=100,  # Note, only five iterations here!\n",
    "                                 decision_function_shape=\"ovr\")\n",
    "_ = model_baseline.fit(X_, y_orig)"
   ]
  },
  {
   "cell_type": "code",
   "execution_count": 4,
   "metadata": {
    "colab": {
     "base_uri": "https://localhost:8080/",
     "height": 54
    },
    "colab_type": "code",
    "id": "vEuWSoSYx0B7",
    "outputId": "4fb680fc-48eb-435e-f64d-9fdb3ef1762c"
   },
   "outputs": [
    {
     "name": "stdout",
     "output_type": "stream",
     "text": [
      "Training data error  : 0.465\n",
      "Validation data error: 0.448\n"
     ]
    }
   ],
   "source": [
    "# Evaluate baseline model\n",
    "yhat = model_baseline.predict(X_)\n",
    "yhat_val = model_baseline.predict(X_val_)\n",
    "acc = sklearn.metrics.accuracy_score(y_orig, yhat)\n",
    "acc_val = sklearn.metrics.accuracy_score(y_val_orig, yhat_val)\n",
    "print(f\"Training data error  : {acc:.3f}\")\n",
    "print(f\"Validation data error: {acc_val:.3f}\")"
   ]
  },
  {
   "cell_type": "code",
   "execution_count": null,
   "metadata": {
    "colab": {},
    "colab_type": "code",
    "id": "28AK6dsuvP-J"
   },
   "outputs": [],
   "source": [
    "# Create deep CNN model\n",
    "\n",
    "def create_model():\n",
    "\n",
    "    model = \"... add your code here!\"\n",
    "\n",
    "    return model\n",
    "\n",
    "model = create_model()\n",
    "\n",
    "model.compile(loss=\"categorical_crossentropy\",\n",
    "              optimizer=\"adam\",\n",
    "              metrics=[\"accuracy\"])"
   ]
  },
  {
   "cell_type": "code",
   "execution_count": null,
   "metadata": {
    "colab": {
     "base_uri": "https://localhost:8080/",
     "height": 109
    },
    "colab_type": "code",
    "id": "KGGpoJ8TvWPC",
    "outputId": "7bc284bf-1417-4a44-9d2c-882e859cac65"
   },
   "outputs": [],
   "source": [
    "# Train model\n",
    "model.fit(X, y,\n",
    "          batch_size=64,\n",
    "          epochs=1,  # Note, only one epoch here!\n",
    "          verbose=1,\n",
    "          validation_data=(X_val, y_val))\n",
    "score = model.evaluate(X_val, y_val, verbose=0)\n",
    "print(\"Validation loss    :\", score[0])\n",
    "print(\"Validation accuracy:\", score[1])"
   ]
  },
  {
   "cell_type": "code",
   "execution_count": null,
   "metadata": {
    "colab": {
     "base_uri": "https://localhost:8080/",
     "height": 72
    },
    "colab_type": "code",
    "id": "GFullmzNwBHS",
    "outputId": "96732416-4109-4964-812d-5c0299564557"
   },
   "outputs": [],
   "source": [
    "# Evaluate the final model on the test data.\n",
    "# This is only ever done once, and as the last thing we do.\n",
    "# Training another model after this, based on the performance on the test data\n",
    "# leads to biased results.\n",
    "acc = model.evaluate(X, y, verbose=0)\n",
    "acc_val = model.evaluate(X_val, y_val, verbose=0)\n",
    "acc_test = model.evaluate(X_test, y_test, verbose=0)\n",
    "print(f\"Training data error  : {acc[1]:.3f}\")\n",
    "print(f\"Validation data error: {acc_val[1]:.3f}\")\n",
    "print(f\"Test data error      : {acc_test[1]:.3f}\")"
   ]
  },
  {
   "cell_type": "code",
   "execution_count": null,
   "metadata": {
    "colab": {},
    "colab_type": "code",
    "id": "QA0c7MYd0W4G"
   },
   "outputs": [],
   "source": []
  }
 ],
 "metadata": {
  "colab": {
   "collapsed_sections": [],
   "name": "4_deep_cnn_keras.ipynb",
   "provenance": []
  },
  "kernelspec": {
   "display_name": "Python 3",
   "language": "python",
   "name": "python3"
  },
  "language_info": {
   "codemirror_mode": {
    "name": "ipython",
    "version": 3
   },
   "file_extension": ".py",
   "mimetype": "text/x-python",
   "name": "python",
   "nbconvert_exporter": "python",
   "pygments_lexer": "ipython3",
   "version": "3.8.2"
  }
 },
 "nbformat": 4,
 "nbformat_minor": 1
}
