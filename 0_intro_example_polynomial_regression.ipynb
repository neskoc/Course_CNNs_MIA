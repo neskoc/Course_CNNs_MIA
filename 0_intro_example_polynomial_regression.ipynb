{
 "cells": [
  {
   "cell_type": "markdown",
   "metadata": {
    "colab_type": "text",
    "id": "YvX6bIvDP0G0"
   },
   "source": [
    "# Machine learning intro\n",
    "\n",
    "Polynomial regression using scikit-learn."
   ]
  },
  {
   "cell_type": "code",
   "execution_count": 0,
   "metadata": {
    "colab": {},
    "colab_type": "code",
    "id": "EnZERD7wP07O"
   },
   "outputs": [],
   "source": [
    "# Import packages\n",
    "import numpy as np\n",
    "import matplotlib.pyplot as plt\n",
    "from sklearn.preprocessing import PolynomialFeatures\n",
    "from sklearn import linear_model\n",
    "import sklearn.metrics\n",
    "\n",
    "# Reproducible results\n",
    "np.random.seed(42)"
   ]
  },
  {
   "cell_type": "code",
   "execution_count": 0,
   "metadata": {
    "colab": {},
    "colab_type": "code",
    "id": "13gWETygczE2"
   },
   "outputs": [],
   "source": [
    "# Generate synthetic dataset\n",
    "n = 100\n",
    "beta_true = [0.1, 0.3142, 0.0618, -0.2718]\n",
    "\n",
    "\n",
    "def f(x, noise_std=0.0):\n",
    "  \"\"\"Creates a degree three polynomial from the input.\n",
    "  \"\"\"\n",
    "  y = beta_true[0] \\\n",
    "      + beta_true[1] * x \\\n",
    "      + beta_true[2] * x**2 \\\n",
    "      + beta_true[3] * x**3\n",
    "  y += noise_std * np.random.randn(n, 1)\n",
    "  return y\n",
    "\n",
    "\n",
    "X = np.random.rand(n, 1) * 20 - 10\n",
    "y = f(X, noise_std=20.0)\n",
    "\n",
    "X_val = np.random.rand(n, 1) * 20 - 10\n",
    "y_val = f(X_val, noise_std=20.0)"
   ]
  },
  {
   "cell_type": "code",
   "execution_count": 87,
   "metadata": {
    "colab": {
     "base_uri": "https://localhost:8080/",
     "height": 269
    },
    "colab_type": "code",
    "id": "VgT-soXpdNZV",
    "outputId": "64b0ea18-a0f8-4cb3-c87d-332e36746498"
   },
   "outputs": [
    {
     "data": {
      "image/png": "[encoded data removed]",
      "text/plain": [
       "<Figure size 432x288 with 1 Axes>"
      ]
     },
     "metadata": {
      "tags": []
     },
     "output_type": "display_data"
    }
   ],
   "source": [
    "plt.figure()\n",
    "_ = plt.plot(X, y, '.')"
   ]
  },
  {
   "cell_type": "code",
   "execution_count": 0,
   "metadata": {
    "colab": {},
    "colab_type": "code",
    "id": "h7681oESdi5s"
   },
   "outputs": [],
   "source": [
    "# Transform dataset using a polynomial of degree 3\n",
    "# It will fit an intercept (the bias), and first through third order terms\n",
    "poly = PolynomialFeatures(degree=3, include_bias=True)\n",
    "poly.fit(X)\n",
    "X_ = poly.transform(X)\n",
    "X_val_ = poly.transform(X_val)"
   ]
  },
  {
   "cell_type": "code",
   "execution_count": 0,
   "metadata": {
    "colab": {},
    "colab_type": "code",
    "id": "iLIMvu6SfuKE"
   },
   "outputs": [],
   "source": [
    "# Create model and fit it to the data\n",
    "model = linear_model.LinearRegression(fit_intercept=True)\n",
    "_ = model.fit(X_, y)"
   ]
  },
  {
   "cell_type": "code",
   "execution_count": 90,
   "metadata": {
    "colab": {
     "base_uri": "https://localhost:8080/",
     "height": 54
    },
    "colab_type": "code",
    "id": "73L6W0Czfyfs",
    "outputId": "a3cd1f08-3317-4925-8136-80d901de153d"
   },
   "outputs": [
    {
     "name": "stdout",
     "output_type": "stream",
     "text": [
      "Training data error  : 308.98603155350884\n",
      "Validation data error: 338.06144807128265\n"
     ]
    }
   ],
   "source": [
    "# Use model to predict outputs\n",
    "yhat = model.predict(X_)\n",
    "yhat_val = model.predict(X_val_)\n",
    "mse = sklearn.metrics.mean_squared_error(y, yhat)\n",
    "mse_val = sklearn.metrics.mean_squared_error(y_val, yhat_val)\n",
    "print(f\"Training data error  : {mse}\")\n",
    "print(f\"Validation data error: {mse_val}\")"
   ]
  },
  {
   "cell_type": "code",
   "execution_count": 91,
   "metadata": {
    "colab": {
     "base_uri": "https://localhost:8080/",
     "height": 269
    },
    "colab_type": "code",
    "id": "9WNmm9exg3JD",
    "outputId": "28913ea2-6ace-4a05-f306-cfc7b8b23bd8"
   },
   "outputs": [
    {
     "data": {
      "image/png": "[encoded data removed]",
      "text/plain": [
       "<Figure size 432x288 with 1 Axes>"
      ]
     },
     "metadata": {
      "tags": []
     },
     "output_type": "display_data"
    }
   ],
   "source": [
    "# Plot predictions\n",
    "plt.figure()\n",
    "plt.plot(X, y, '.', color=\"blue\")\n",
    "plt.plot(X, yhat, '.', color=\"red\")\n",
    "_ = plt.legend([\"Training data\", \"Model Prediction\"])"
   ]
  },
  {
   "cell_type": "code",
   "execution_count": 92,
   "metadata": {
    "colab": {
     "base_uri": "https://localhost:8080/",
     "height": 54
    },
    "colab_type": "code",
    "id": "21pzrF5RRIau",
    "outputId": "a73a59ab-e936-463e-d8ec-239d8ee6cc32"
   },
   "outputs": [
    {
     "name": "stdout",
     "output_type": "stream",
     "text": [
      "True coefficients : [0.1, 0.3142, 0.0618, -0.2718]\n",
      "Model coefficients: [0.0, 0.4684, 0.1753, -0.281]\n"
     ]
    }
   ],
   "source": [
    "# Regression coefficients\n",
    "print(f\"True coefficients : {beta_true}\")\n",
    "print(f\"Model coefficients: {model.coef_[0].round(4).tolist()}\")"
   ]
  },
  {
   "cell_type": "code",
   "execution_count": 0,
   "metadata": {
    "colab": {},
    "colab_type": "code",
    "id": "rgohtwZ_RnSr"
   },
   "outputs": [],
   "source": []
  }
 ],
 "metadata": {
  "colab": {
   "collapsed_sections": [],
   "name": "0_intro_example_polynomial_regression.ipynb",
   "provenance": []
  },
  "kernelspec": {
   "display_name": "Python 3",
   "language": "python",
   "name": "python3"
  },
  "language_info": {
   "codemirror_mode": {
    "name": "ipython",
    "version": 3
   },
   "file_extension": ".py",
   "mimetype": "text/x-python",
   "name": "python",
   "nbconvert_exporter": "python",
   "pygments_lexer": "ipython3",
   "version": "3.8.2"
  }
 },
 "nbformat": 4,
 "nbformat_minor": 1
}
